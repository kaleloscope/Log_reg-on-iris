{
  "nbformat": 4,
  "nbformat_minor": 0,
  "metadata": {
    "colab": {
      "name": "ML-act1_logistic_reg.ipynb",
      "provenance": []
    },
    "kernelspec": {
      "name": "python3",
      "display_name": "Python 3"
    },
    "language_info": {
      "name": "python"
    }
  },
  "cells": [
    {
      "cell_type": "markdown",
      "metadata": {
        "id": "m0fcS5XjxwKC"
      },
      "source": [
        "Name - Sourabh Kalel\n",
        "\n",
        "Roll - BETB56\n",
        "\n",
        "Batch-B4\n",
        "\n",
        "#A Simple Logistic Regression Model for Classification \n",
        "\n"
      ]
    },
    {
      "cell_type": "markdown",
      "metadata": {
        "id": "GxAKPcn30T5f"
      },
      "source": [
        "Importing the python libraries."
      ]
    },
    {
      "cell_type": "code",
      "metadata": {
        "id": "-8DktEO-UHoW"
      },
      "source": [
        "from sklearn import datasets\n",
        "from sklearn.linear_model import LogisticRegression\n",
        "import seaborn as sbn\n",
        "import numpy as np\n",
        "import matplotlib.pyplot as plt\n",
        "\n",
        " "
      ],
      "execution_count": null,
      "outputs": []
    },
    {
      "cell_type": "markdown",
      "metadata": {
        "id": "cpF8Iq8B4ofm"
      },
      "source": [
        "Defining the IRIS dataset to a variable called 'iris' and visualising the data using seaborn.\n",
        "\n",
        "Checking the data, it's target values and the target name. \n",
        "\n",
        "***We want to classify those flowers which are 'Setosa'***"
      ]
    },
    {
      "cell_type": "code",
      "metadata": {
        "id": "ljfl6aHS4nvg"
      },
      "source": [
        "iris = datasets.load_iris()\n",
        "data = sbn.load_dataset(\"iris\")\n",
        "print(iris['target'])\n",
        "print(iris['target_names'])"
      ],
      "execution_count": null,
      "outputs": []
    },
    {
      "cell_type": "markdown",
      "metadata": {
        "id": "g5MeaFo05tz3"
      },
      "source": [
        "Choosing the third column from the iris key 'data' and checking for the target '0' since the iris['target'] is 0 for 'Setosa'. "
      ]
    },
    {
      "cell_type": "code",
      "metadata": {
        "id": "F2BmSlgN1QV1"
      },
      "source": [
        "X = iris[\"data\"][:, 3:]\n",
        "y = (iris[\"target\"] == 0).astype(np.int)"
      ],
      "execution_count": 23,
      "outputs": []
    },
    {
      "cell_type": "markdown",
      "metadata": {
        "id": "NKW18UtMBk35"
      },
      "source": [
        "Splitting the data into training and testing (70:30)"
      ]
    },
    {
      "cell_type": "code",
      "metadata": {
        "id": "qWqdUkjWAmnm"
      },
      "source": [
        "from sklearn.model_selection import train_test_split\n",
        "X_train, X_test, y_train, y_test = train_test_split(X,y, test_size=0.2)"
      ],
      "execution_count": 28,
      "outputs": []
    },
    {
      "cell_type": "markdown",
      "metadata": {
        "id": "hxcHB3v58yV3"
      },
      "source": [
        "Creating a Logistic Regression model and training it using 'fit()' function"
      ]
    },
    {
      "cell_type": "code",
      "metadata": {
        "colab": {
          "base_uri": "https://localhost:8080/"
        },
        "id": "6z9MK2hu8l3r",
        "outputId": "dba2bdfe-dcb5-4c0f-d3fc-7e30737ca015"
      },
      "source": [
        "clf = LogisticRegression()\n",
        "clf.fit(X_train, y_train)"
      ],
      "execution_count": 29,
      "outputs": [
        {
          "output_type": "execute_result",
          "data": {
            "text/plain": [
              "LogisticRegression(C=1.0, class_weight=None, dual=False, fit_intercept=True,\n",
              "                   intercept_scaling=1, l1_ratio=None, max_iter=100,\n",
              "                   multi_class='auto', n_jobs=None, penalty='l2',\n",
              "                   random_state=None, solver='lbfgs', tol=0.0001, verbose=0,\n",
              "                   warm_start=False)"
            ]
          },
          "metadata": {},
          "execution_count": 29
        }
      ]
    },
    {
      "cell_type": "markdown",
      "metadata": {
        "id": "qj0TH7mAEQuc"
      },
      "source": [
        "Accuracy of the Model"
      ]
    },
    {
      "cell_type": "code",
      "metadata": {
        "id": "hK30ocG6CpXT"
      },
      "source": [
        "clf.score(X_test, y_test)"
      ],
      "execution_count": null,
      "outputs": []
    },
    {
      "cell_type": "markdown",
      "metadata": {
        "id": "S0pnW_cAEXML"
      },
      "source": [
        "Checking for the Setosa flower by predicting the test dataset"
      ]
    },
    {
      "cell_type": "code",
      "metadata": {
        "colab": {
          "base_uri": "https://localhost:8080/"
        },
        "id": "BO0whPXACywo",
        "outputId": "cab3bd42-f4f3-43a5-ac1f-f51e968922c1"
      },
      "source": [
        "clf.predict(X_test)"
      ],
      "execution_count": 34,
      "outputs": [
        {
          "output_type": "execute_result",
          "data": {
            "text/plain": [
              "array([0, 1, 0, 0, 1, 0, 0, 0, 1, 1, 0, 0, 0, 1, 0, 1, 1, 0, 0, 1, 0, 0,\n",
              "       0, 0, 0, 1, 0, 1, 0, 1])"
            ]
          },
          "metadata": {},
          "execution_count": 34
        }
      ]
    },
    {
      "cell_type": "markdown",
      "metadata": {
        "id": "d18fk3zPE5Re"
      },
      "source": [
        "By this we had successfully trained and tested the model which shows high accuracy and accurate prediction."
      ]
    }
  ]
}